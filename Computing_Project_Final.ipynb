{
 "cells": [
  {
   "cell_type": "markdown",
   "metadata": {},
   "source": [
    "<font color='blue'>**SHORTEST ROUTE ALGORITHM BETWEEN CITIES**</font> "
   ]
  },
  {
   "cell_type": "markdown",
   "metadata": {},
   "source": [
    "1. Import all the libraries required for this program"
   ]
  },
  {
   "cell_type": "code",
   "execution_count": null,
   "metadata": {},
   "outputs": [],
   "source": [
    "import pandas as pd\n",
    "import random\n",
    "import numpy as np\n",
    "import os\n",
    "import warnings\n",
    "import folium\n",
    "import time\n",
    "import geopy.distance\n",
    "import matplotlib.pyplot as plt\n",
    "from multiprocessing import Pool\n",
    "warnings.filterwarnings('ignore')"
   ]
  },
  {
   "cell_type": "markdown",
   "metadata": {},
   "source": [
    "2. Import data into python and explore the dataset"
   ]
  },
  {
   "cell_type": "code",
   "execution_count": null,
   "metadata": {},
   "outputs": [],
   "source": [
    "######################################## Reading Data ###########################################\n",
    "df=pd.read_csv(\"uscities.csv\")\n",
    "df=df.drop([\"SNo\"],axis=1)\n",
    "df_original = df\n",
    "df_len = len(df)\n",
    "print(\"Number of observations in dataset is {}\".format(df_len))\n",
    "df.head()"
   ]
  },
  {
   "cell_type": "markdown",
   "metadata": {},
   "source": [
    "We initialize 3 lists to store the time taken by each section of the code"
   ]
  },
  {
   "cell_type": "code",
   "execution_count": null,
   "metadata": {},
   "outputs": [],
   "source": [
    "##################################### To track time of each section #############################\n",
    "process=[]\n",
    "optimization =[]\n",
    "visual = []"
   ]
  },
  {
   "cell_type": "markdown",
   "metadata": {},
   "source": [
    "<font color='blue'>**DATA PROCESSING**</font>"
   ]
  },
  {
   "cell_type": "markdown",
   "metadata": {},
   "source": [
    "3. We randomly sample the data to pick observations for further analysis.\n",
    "We also keep track of time taken by each block for execution."
   ]
  },
  {
   "cell_type": "code",
   "execution_count": null,
   "metadata": {},
   "outputs": [],
   "source": [
    "####################################### Data Processing ##########################################\n",
    "df = df_original\n",
    "t1 = time.time()\n",
    "df = df.sample(n=1600)\n",
    "nrows=len(df) #Total no. of cities"
   ]
  },
  {
   "cell_type": "markdown",
   "metadata": {},
   "source": [
    "4. We assign the maximum and minimum number of ones in the sparse matrix rows"
   ]
  },
  {
   "cell_type": "code",
   "execution_count": null,
   "metadata": {},
   "outputs": [],
   "source": [
    "maxdeg=5 #Max. number of ones\n",
    "mindeg=2 #Min. numbver of ones"
   ]
  },
  {
   "cell_type": "markdown",
   "metadata": {},
   "source": [
    "5. To reduce time complexity and ease of processing, we convert the input data into a dictionary."
   ]
  },
  {
   "cell_type": "code",
   "execution_count": null,
   "metadata": {},
   "outputs": [],
   "source": [
    "list=[]\n",
    "df = df.reset_index()\n",
    "df=df.drop([\"index\"],axis=1)\n",
    "dict=df.to_dict('index')"
   ]
  },
  {
   "cell_type": "markdown",
   "metadata": {},
   "source": [
    "6. We generate random edges for the cities which act as connections/routes between two cities and build a sparse matrix to increase efficiency of the code and ease of retrieval. \n",
    "The values dmax and dmin are the actual maximum and mininum number of degrees the graph is constrained to."
   ]
  },
  {
   "cell_type": "code",
   "execution_count": null,
   "metadata": {},
   "outputs": [],
   "source": [
    "# Generate random edges of degree n\n",
    "edgearr_sparse = np.zeros((nrows,nrows))\n",
    "# making first n columns as 1\n",
    "for i in range(0,maxdeg):\n",
    "    edgearr_sparse[:,i]=1\n",
    "#  Shuffling the data\n",
    "for i in range(0,nrows):\n",
    "    random.shuffle(edgearr_sparse[i])\n",
    "edgearr_sparse = np.asmatrix(edgearr_sparse)\n",
    "edgearr_sparse = edgearr_sparse + edgearr_sparse.T\n",
    "np.fill_diagonal(edgearr_sparse,0)\n",
    "edgearr_sparse=edgearr_sparse%2\n",
    "#edgearr_sparse\n",
    "\n",
    "sumedge = edgearr_sparse.sum(axis=0)\n",
    "d = []\n",
    "for i in range(sumedge.shape[1]):\n",
    "    d.append(sumedge.item(0,i))\n",
    "\n",
    "#maximum and mininum number of degrees\n",
    "dmax = max(d)\n",
    "dmin = min(d)"
   ]
  },
  {
   "cell_type": "markdown",
   "metadata": {},
   "source": [
    "7. Calculate the air distance between two cities based on the latitude and longitude"
   ]
  },
  {
   "cell_type": "code",
   "execution_count": null,
   "metadata": {},
   "outputs": [],
   "source": [
    "#calculate air distance between two points\n",
    "dict_edges={}\n",
    "dict_inner={}\n",
    "for i in range(0,nrows):\n",
    "    dict_inner={}\n",
    "#     loop through each column and find distance for each edge\n",
    "    for j in range(0,nrows):\n",
    "        if(edgearr_sparse[i,j]==1):\n",
    "            coord1=(dict[i][\"Lat\"],dict[i][\"Long\"])\n",
    "            coord2=(dict[j][\"Lat\"],dict[j][\"Long\"])\n",
    "            dict_inner[j]=round(geopy.distance.geodesic(coord1, coord2).km,2)            \n",
    "\n",
    "    dict_edges[i]=dict_inner\n"
   ]
  },
  {
   "cell_type": "markdown",
   "metadata": {},
   "source": [
    "8. Store the entire time taken by the data processing block to generate routes and calculate distance between two connected cities"
   ]
  },
  {
   "cell_type": "code",
   "execution_count": null,
   "metadata": {},
   "outputs": [],
   "source": [
    "t2= time.time()\n",
    "process.append(t2-t1)"
   ]
  },
  {
   "cell_type": "markdown",
   "metadata": {},
   "source": [
    "<font color='blue'>**DIJSKTRA'S ALGORITHM**</font>"
   ]
  },
  {
   "cell_type": "markdown",
   "metadata": {},
   "source": [
    "Dijkstra’s algorithm is a greedy algorithm to find the shortest path between two nodes in a graph.\n",
    "\n",
    "Following are the steps of the algorithm:\n",
    "\n",
    "Let distance of start node from start vertex be 0. Call the starting node as the current node.\n",
    "Consider all nodes to be in an unvisited list.\n",
    "\n",
    "Repeat the following steps (until no unvisited node left in the neighbor of the current node or we have reached the end node)\n",
    "\n",
    "•\tVisit the unvisited node with the smallest known distance from the start node. Call that current node. Put starting node in a visited list.\n",
    "\n",
    "•\tFor the current node examine the unvisited neighbors (i.e. the nodes connected to the start node).\n",
    "\n",
    "•\tFor current node, calculate the distance of each neighbor from the start node. Using the distance of its connecting current node (from the start node) in addition to the distance between current node to the neighbor.\n",
    "\n",
    "•\tIf the calculated distance of a node is lesser than its current stored distance from the start node, update the distance.\n",
    "\n",
    "•\tPut the current node in the visited list and then make the neighbor with the smallest distance as the current node. \n",
    "\n",
    "Once the above condition is met. If the loop ends due to no unvisited neighboring nodes, the function will return 'No Route Possible'. If the end node is met, we will start with the end node, go to its previous node (which gave the shortest distance) and so on until we reach the start node. The inverse of this list will give the actual path. Moreover, the sum of weights in this graph will give the total distance from the start to end node.\n"
   ]
  },
  {
   "cell_type": "code",
   "execution_count": null,
   "metadata": {},
   "outputs": [],
   "source": [
    "################### Defining algorithm for optimization ###########################\n",
    "def dijsktra(data, initial, end):\n",
    "    # shortest paths is a dict of nodes\n",
    "    # whose value is a tuple of (previous node, weight)\n",
    "    shortest_paths = {initial: (None, 0)}\n",
    "    current_node = initial\n",
    "    visited = []\n",
    "    \n",
    "    while current_node != end:\n",
    "        visited.append(current_node)\n",
    "        #getting neighbors of the current node\n",
    "        destinations = data[current_node].keys()\n",
    "        weight_to_current_node = shortest_paths[current_node][1]\n",
    "\n",
    "        for next_node in destinations:\n",
    "            #getting weight of each neighboring node of the current node\n",
    "            weight = data[current_node][next_node] + weight_to_current_node\n",
    "            if next_node not in shortest_paths:\n",
    "                shortest_paths[next_node] = (current_node, weight)\n",
    "            else:\n",
    "                current_shortest_weight = shortest_paths[next_node][1]\n",
    "                #if the calculated weight is lesser, update weight on that node\n",
    "                if current_shortest_weight > weight:\n",
    "                    shortest_paths[next_node] = (current_node, weight)\n",
    "        \n",
    "        #getting new neighbors \n",
    "        next_destinations = {node: shortest_paths[node] for node in shortest_paths if node not in visited}\n",
    "        \n",
    "        if not next_destinations:\n",
    "            return \"Route Not Possible\"\n",
    "        # next node is the destination with the lowest weight\n",
    "        current_node = min(next_destinations, key=lambda k: next_destinations[k][1])\n",
    "    \n",
    "    # Work back through destinations in shortest path\n",
    "    path = []\n",
    "    weight = 0\n",
    "    while current_node is not None:\n",
    "        path.append(current_node)\n",
    "        next_node = shortest_paths[current_node][0]\n",
    "        #finding weights of each edge in the shortest path\n",
    "        if next_node is not None:\n",
    "            weight += data[next_node][current_node]\n",
    "        current_node = next_node\n",
    "    # Reverse path\n",
    "    path = path[::-1]\n",
    "    return [path,weight]"
   ]
  },
  {
   "cell_type": "markdown",
   "metadata": {},
   "source": [
    "9. In Route optimization block, we generate a random origin and destination from the list of cities and use Dijsktra's algorithm to compute the shortest path available, based on the routes generated in the data processing block.\n",
    "We also compute the time taken by the route optimization block i.e. Dijkstra's algorithm to return the shortest path. "
   ]
  },
  {
   "cell_type": "code",
   "execution_count": null,
   "metadata": {},
   "outputs": [],
   "source": [
    " ################################### Route Optimization ########################################\n",
    "    \n",
    "df_len = len(df)\n",
    "random.seed(0)\n",
    "origin = random.randint(1,df_len)\n",
    "random.seed(1)\n",
    "destination = random.randint(1,df_len)\n",
    "\n",
    "t1= time.time()\n",
    "  \n",
    "x = dijsktra(dict_edges, origin,destination)\n",
    "\n",
    "t2= time.time()\n",
    "a = len(x[0])\n",
    "numbers = np.arange(1,a+1).tolist()\n",
    "optimization.append(t2-t1)"
   ]
  },
  {
   "cell_type": "code",
   "execution_count": null,
   "metadata": {},
   "outputs": [],
   "source": [
    "print(\"The path to be followed to reach from origin to destination is {} and the total distance between them is {} kms\".format(x[0],x[1]))"
   ]
  },
  {
   "cell_type": "markdown",
   "metadata": {},
   "source": [
    "We now use the shortest path generated by Dijkstra's algorithm to plot the route map and compute the time taken by the visualization block.\n",
    "The code would need to be run for the graph to be come visible again."
   ]
  },
  {
   "cell_type": "code",
   "execution_count": null,
   "metadata": {
    "scrolled": false
   },
   "outputs": [],
   "source": [
    "\n",
    "################################### Geographical Visualization #########################################\n",
    "\n",
    "t1=time.time()\n",
    "n = len(x[0])\n",
    "df_old = df\n",
    "df = df.iloc[x[0]]\n",
    "df['lat_long'] = df[['Lat', 'Long']].apply(tuple, axis=1)\n",
    "tup =[]\n",
    "for i in range(n):\n",
    "    tup.append(df.iloc[i]['lat_long'])\n",
    "\n",
    "route_map = folium.Map(location=[37, -95.7], zoom_start=4.4)\n",
    "for i in range(0,df_old.shape[0]):\n",
    "    folium.CircleMarker(\n",
    "        [df_old.iloc[i][\"Lat\"], df_old.iloc[i]['Long']],\n",
    "        radius=2,\n",
    "        color = 'grey',\n",
    "        parse_html=False).add_to(route_map)  \n",
    "\n",
    "for i in range(0,n):\n",
    "    folium.CircleMarker(\n",
    "        [df.iloc[i][\"Lat\"], df.iloc[i]['Long']],\n",
    "        radius=5,\n",
    "        color='red',\n",
    "        fill=True,\n",
    "        fill_color='#3186cc',\n",
    "        fill_opacity=0.7,\n",
    "        parse_html=False).add_to(route_map)\n",
    "    folium.Marker(\n",
    "        [df.iloc[i][\"Lat\"], df.iloc[i]['Long']],\n",
    "        popup=df.iloc[i]['Cities'],\n",
    "        icon=folium.DivIcon(\n",
    "        icon_size=(100,360),\n",
    "        icon_anchor=(0,0),\n",
    "        html='<div style=\"color:#111759;font-weight:bold\" >%s</div>' % df.iloc[i][\"Cities\"]\n",
    "        )\n",
    "        ).add_to(route_map)\n",
    "    folium.Marker(\n",
    "            [(df.iloc[i][\"Lat\"]+0.5), (df.iloc[i]['Long']+0.5)],\n",
    "            popup=df.iloc[i]['Cities'],\n",
    "            icon=folium.DivIcon(\n",
    "            icon_size=(100,500),\n",
    "            icon_anchor=(0,0),\n",
    "            html='<div style=\"color:black;font-weight:bold;font-size:100\" >%s</div>' % numbers[i]\n",
    "            )\n",
    "            ).add_to(route_map)\n",
    "folium.PolyLine(tup).add_to(route_map)\n",
    "route_map\n",
    "\n",
    "    \n",
    "##############################################################################################"
   ]
  },
  {
   "cell_type": "markdown",
   "metadata": {},
   "source": [
    "10. For each of the blocks, we plot the graph to compare the time taken. "
   ]
  },
  {
   "cell_type": "code",
   "execution_count": null,
   "metadata": {},
   "outputs": [],
   "source": [
    "t2= time.time()\n",
    "visual.append(t2-t1)\n",
    "##############################################################################################\n",
    "\n",
    "time_taken = {\n",
    "            'Data Processing': sum(process)/len(process),\n",
    "            'Optimization': sum(optimization)/len(optimization),\n",
    "            'Visualization' : sum(visual)/len(visual)\n",
    "    \n",
    "}\n",
    "plt.bar(range(len(time_taken)), time_taken.values(), align='center')\n",
    "plt.xticks(range(len(time_taken)), [*time_taken])\n",
    "plt.xlabel('Section')\n",
    "plt.ylabel('Avg Time in Seconds')\n",
    "plt.title('Execution time taken by each block')\n",
    "\n",
    "plt.show()"
   ]
  },
  {
   "cell_type": "markdown",
   "metadata": {},
   "source": [
    "REFERENCES -\n",
    "\n",
    "1.  Dataset is hosted on website - https://simplemaps.com/data/us-cities\n",
    "\n",
    "2.  We referred http://benalexkeen.com/implementing-djikstras-shortest-path-algorithm-with-python/ for the optimization (Dijkstra’s) algorithm.\n",
    "\n",
    "3.  We have referred the documentation of folium library to plot the charts - https://python-visualization.github.io/folium/"
   ]
  }
 ],
 "metadata": {
  "kernelspec": {
   "display_name": "Python 3",
   "language": "python",
   "name": "python3"
  },
  "language_info": {
   "codemirror_mode": {
    "name": "ipython",
    "version": 3
   },
   "file_extension": ".py",
   "mimetype": "text/x-python",
   "name": "python",
   "nbconvert_exporter": "python",
   "pygments_lexer": "ipython3",
   "version": "3.7.3"
  }
 },
 "nbformat": 4,
 "nbformat_minor": 2
}
